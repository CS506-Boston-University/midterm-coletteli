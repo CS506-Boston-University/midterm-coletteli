{
  "nbformat": 4,
  "nbformat_minor": 5,
  "metadata": {
    "kernelspec": {
      "display_name": "Python 3",
      "language": "python",
      "name": "python3"
    },
    "language_info": {
      "codemirror_mode": {
        "name": "ipython",
        "version": 3
      },
      "file_extension": ".py",
      "mimetype": "text/x-python",
      "name": "python",
      "nbconvert_exporter": "python",
      "pygments_lexer": "ipython3",
      "version": "3.8.8"
    },
    "colab": {
      "provenance": [],
      "collapsed_sections": [],
      "machine_shape": "hm"
    }
  },
  "cells": [
    {
      "cell_type": "markdown",
      "metadata": {
        "id": "40fcf22b"
      },
      "source": [
        "#**Import**"
      ],
      "id": "40fcf22b"
    },
    {
      "cell_type": "code",
      "metadata": {
        "scrolled": false,
        "id": "79398040"
      },
      "source": [
        "import pandas as pd\n",
        "import numpy as np \n",
        "import matplotlib.pyplot as plt\n",
        "import seaborn as seabornInstance \n",
        "from sklearn.model_selection import train_test_split \n",
        "from sklearn.linear_model import LinearRegression\n",
        "from sklearn.linear_model import LogisticRegression\n",
        "from sklearn.naive_bayes import ComplementNB\n",
        "from sklearn import metrics\n",
        "from sklearn import svm\n",
        "from sklearn.svm import LinearSVC\n",
        "from sklearn.pipeline import make_pipeline\n",
        "from sklearn.preprocessing import StandardScaler\n",
        "#Polynomial regression\n",
        "from sklearn.preprocessing import PolynomialFeatures\n",
        "#Naive bayes\n",
        "from sklearn.naive_bayes import MultinomialNB\n",
        "from sklearn.feature_extraction import DictVectorizer\n",
        "from sklearn.metrics import precision_recall_fscore_support, accuracy_score\n",
        "#Knn\n",
        "import seaborn as sns\n",
        "import matplotlib.pyplot as plt\n",
        "from sklearn.neighbors import KNeighborsClassifier\n",
        "from sklearn.model_selection import train_test_split\n",
        "from sklearn.metrics import mean_squared_error, confusion_matrix, plot_confusion_matrix\n",
        "#RMSE\n",
        "from sklearn.metrics import mean_squared_error\n",
        "#logistic regression \n",
        "from sklearn.datasets import load_iris\n",
        "from sklearn.linear_model import LogisticRegression\n",
        "\n",
        "from sklearn.feature_extraction.text import TfidfVectorizer"
      ],
      "id": "79398040",
      "execution_count": 37,
      "outputs": []
    },
    {
      "cell_type": "markdown",
      "metadata": {
        "id": "d31e35a5"
      },
      "source": [
        "\n",
        "# preliminary analysis"
      ],
      "id": "d31e35a5"
    },
    {
      "cell_type": "code",
      "metadata": {
        "id": "R4zr4c7vBXrF",
        "colab": {
          "base_uri": "https://localhost:8080/"
        },
        "outputId": "d44e4d9f-aa3f-4d31-f1f3-845a48f13e66"
      },
      "source": [
        "from google.colab import drive\n",
        "drive.mount('/content/drive')"
      ],
      "id": "R4zr4c7vBXrF",
      "execution_count": 38,
      "outputs": [
        {
          "output_type": "stream",
          "name": "stdout",
          "text": [
            "Drive already mounted at /content/drive; to attempt to forcibly remount, call drive.mount(\"/content/drive\", force_remount=True).\n"
          ]
        }
      ]
    },
    {
      "cell_type": "markdown",
      "metadata": {
        "id": "8RS2LKXfJuGO"
      },
      "source": [
        "read data"
      ],
      "id": "8RS2LKXfJuGO"
    },
    {
      "cell_type": "code",
      "metadata": {
        "id": "R0v8vpWj4cBf"
      },
      "source": [
        "dataset_train = pd.read_csv('/content/drive/MyDrive/cs506/train.csv')\n",
        "dataset_test = pd.read_csv('/content/drive/MyDrive/cs506/test.csv')"
      ],
      "id": "R0v8vpWj4cBf",
      "execution_count": 39,
      "outputs": []
    },
    {
      "cell_type": "markdown",
      "metadata": {
        "id": "-LSCCvge4JuA"
      },
      "source": [
        "Bar graph of score distribution"
      ],
      "id": "-LSCCvge4JuA"
    },
    {
      "cell_type": "code",
      "metadata": {
        "id": "3K057wYI_RC9",
        "colab": {
          "base_uri": "https://localhost:8080/",
          "height": 303
        },
        "outputId": "734da604-b863-45a4-afb8-1124a69a5426"
      },
      "source": [
        "dataset_train.groupby('Score')['Id'].count().plot.bar()"
      ],
      "id": "3K057wYI_RC9",
      "execution_count": 11,
      "outputs": [
        {
          "output_type": "execute_result",
          "data": {
            "text/plain": [
              "<matplotlib.axes._subplots.AxesSubplot at 0x7f18197292d0>"
            ]
          },
          "metadata": {},
          "execution_count": 11
        },
        {
          "output_type": "display_data",
          "data": {
            "text/plain": [
              "<Figure size 432x288 with 1 Axes>"
            ],
            "image/png": "[encoded data removed]"
          },
          "metadata": {
            "needs_background": "light"
          }
        }
      ]
    },
    {
      "cell_type": "markdown",
      "metadata": {
        "id": "fzC-A4S066Bk"
      },
      "source": [
        "# Feature_extraction "
      ],
      "id": "fzC-A4S066Bk"
    },
    {
      "cell_type": "code",
      "metadata": {
        "id": "837fp9Qs46IL"
      },
      "source": [
        "# def getStemmedReview(review):\n",
        "#     review = str(review)\n",
        "#     review = review.replace('<br /><br />',\" \")\n",
        "    \n",
        "#     # Step 1 : Tokenize\n",
        "#     tokenizer = RegexpTokenizer(r'\\w+')\n",
        "#     wordsList = tokenizer.tokenize(review)\n",
        "#     wordsList = [word.lower() for word in wordsList]\n",
        "    \n",
        "    \n",
        "#     # Step 2 : Remove Stop Words\n",
        "#     sw = set(stopwords.words('english'))\n",
        "#     wordsList = [word for word in wordsList if word not in sw]\n",
        "    \n",
        "    \n",
        "#     # Step 3 : Stemming\n",
        "#     ps = PorterStemmer()\n",
        "#     wordsList = [ps.stem(word) for word in wordsList]\n",
        "#     #print(wordsList)\n",
        "    \n",
        "#     # return as a sentence\n",
        "#     cleaned_review = \" \".join(wordsList)\n",
        "    \n",
        "#     return cleaned_review\n",
        "\n",
        "# function\n",
        "\n",
        "def process(df):\n",
        "    # This is where you can do all your processing\n",
        "    df['Helpfulness'] = df['HelpfulnessNumerator'] / df['HelpfulnessDenominator']\n",
        "    df['Helpfulness'] = df['Helpfulness'].fillna(0)\n",
        "\n",
        "    df['UserAverage'] = df.groupby('UserId')['Score'].transform('mean')\n",
        "    # fill na with average score\n",
        "    df['UserAverage'] = df['UserAverage'].fillna(df['Score'].mean())\n",
        "\n",
        "    df['ProductAverage'] = df.groupby('ProductId')['Score'].transform('mean')\n",
        "    df['ProductAverage'] = df['ProductAverage'].fillna(df['Score'].mean())\n",
        "\n",
        "    # fill na with summary\n",
        "    df['Text'] = df['Text'].fillna(df['Summary'])\n",
        "\n",
        "    return df\n",
        "  \n",
        "\n",
        "\n",
        "trainingSet = pd.read_csv(\"/content/drive/MyDrive/cs506/train.csv\")\n",
        "\n",
        "# Process the DataFrame\n",
        "train_processed = process(trainingSet)\n",
        "\n",
        "# Load test set\n",
        "submissionSet = pd.read_csv(\"/content/drive/MyDrive/cs506/test.csv\")\n",
        "\n",
        "# Merge on Id so that the test set can have feature columns as well\n",
        "testX= pd.merge(train_processed, submissionSet, left_on='Id', right_on='Id')\n",
        "testX = testX.drop(columns=['Score_x'])\n",
        "testX = testX.rename(columns={'Score_y': 'Score'})\n",
        "\n",
        "# The training set is where the score is not null\n",
        "trainX =  train_processed[train_processed['Score'].notnull()]\n",
        "\n",
        "testX.to_csv(\"/content/drive/MyDrive/cs506/X_test.csv\", index=False)\n",
        "trainX.to_csv(\"/content/drive/MyDrive/cs506/X_train.csv\", index=False)"
      ],
      "id": "837fp9Qs46IL",
      "execution_count": 41,
      "outputs": []
    },
    {
      "cell_type": "code",
      "metadata": {
        "id": "4822N12lJr8J"
      },
      "source": [
        "dataset_train = pd.read_csv('/content/drive/MyDrive/cs506/process.csv')"
      ],
      "id": "4822N12lJr8J",
      "execution_count": 16,
      "outputs": []
    },
    {
      "cell_type": "code",
      "metadata": {
        "id": "pmJNFfarkUO6"
      },
      "source": [
        "dataset_train.to_csv('/content/drive/MyDrive/cs506/process.csv', index=None)\n",
        "dataset_test.to_csv('/content/drive/MyDrive/cs506/process_test.csv', index=None)"
      ],
      "id": "pmJNFfarkUO6",
      "execution_count": 15,
      "outputs": []
    },
    {
      "cell_type": "code",
      "metadata": {
        "id": "ajeqz4O9HPEk"
      },
      "source": [
        "dataset_test = pd.read_csv('/content/drive/MyDrive/cs506/process_test.csv')\n",
        "dataset_train = pd.read_csv('/content/drive/MyDrive/cs506/process.csv')\n",
        "Train = pd.read_csv('/content/drive/MyDrive/cs506/train.csv')"
      ],
      "id": "ajeqz4O9HPEk",
      "execution_count": 17,
      "outputs": []
    },
    {
      "cell_type": "code",
      "metadata": {
        "id": "E9-e2C-JnXAu"
      },
      "source": [
        "def process2(df):\n",
        "  #calculate users' average rating\n",
        "  df['UserAvg'] = df.groupby('UserId')['Score'].transform('mean')\n",
        "  df['MovieAvg'] = df.groupby('ProductId')['Score'].transform('mean')\n",
        "  df['UserIDs'] = df.groupby('UserId').size()\n",
        "  df['MovieP'] = df.groupby('ProductId').size()\n",
        "  return df"
      ],
      "id": "E9-e2C-JnXAu",
      "execution_count": 18,
      "outputs": []
    },
    {
      "cell_type": "code",
      "metadata": {
        "id": "15msF-W93fkI",
        "colab": {
          "base_uri": "https://localhost:8080/"
        },
        "outputId": "b693a22c-c420-490b-e421-4a38173fe118"
      },
      "source": [
        "dataset_train.columns"
      ],
      "id": "15msF-W93fkI",
      "execution_count": 19,
      "outputs": [
        {
          "output_type": "execute_result",
          "data": {
            "text/plain": [
              "Index(['Id', 'ProductId', 'UserId', 'HelpfulnessNumerator',\n",
              "       'HelpfulnessDenominator', 'Score', 'Time', 'Summary', 'Text'],\n",
              "      dtype='object')"
            ]
          },
          "metadata": {},
          "execution_count": 19
        }
      ]
    },
    {
      "cell_type": "code",
      "metadata": {
        "id": "tuHsKfR1vhSQ",
        "colab": {
          "base_uri": "https://localhost:8080/",
          "height": 424
        },
        "outputId": "ef026902-9e96-4606-c7e3-da80741c8d40"
      },
      "source": [
        "dataset_train.head()"
      ],
      "id": "tuHsKfR1vhSQ",
      "execution_count": 20,
      "outputs": [
        {
          "output_type": "execute_result",
          "data": {
            "text/plain": [
              "   Id   ProductId          UserId  HelpfulnessNumerator  \\\n",
              "0   0  0005019281   ADZPIG9QOCDG5                   0.0   \n",
              "1   1  0005019281  A35947ZP82G7JH                   0.0   \n",
              "2   2  0005019281  A3UORV8A9D5L2E                   0.0   \n",
              "3   3  0005019281  A1VKW06X1O2X7V                   0.0   \n",
              "4   4  0005019281  A3R27T4HADWFFJ                   0.0   \n",
              "\n",
              "   HelpfulnessDenominator  Score          Time  \\\n",
              "0                     0.0    4.0  1.203984e+09   \n",
              "1                     0.0    3.0  1.388362e+09   \n",
              "2                     0.0    3.0  1.388362e+09   \n",
              "3                     0.0    5.0  1.202861e+09   \n",
              "4                     0.0    4.0  1.387670e+09   \n",
              "\n",
              "                                        Summary  \\\n",
              "0                     good version of a classic   \n",
              "1                        Good but not as moving   \n",
              "2         Winkler's Performance was ok at best!   \n",
              "3  It's an enjoyable twist on the classic story   \n",
              "4                              Best Scrooge yet   \n",
              "\n",
              "                                                Text  \n",
              "0  This is a charming version of the classic Dick...  \n",
              "1  It was good but not as emotionally moving as t...  \n",
              "2  Don't get me wrong, Winkler is a wonderful cha...  \n",
              "3  Henry Winkler is very good in this twist on th...  \n",
              "4  This is one of the best Scrooge movies out.  H...  "
            ],
            "text/html": [
              "\n",
              "  <div id=\"df-d870ba94-c70d-49e3-9827-e1a6a3775802\">\n",
              "    <div class=\"colab-df-container\">\n",
              "      <div>\n",
              "<style scoped>\n",
              "    .dataframe tbody tr th:only-of-type {\n",
              "        vertical-align: middle;\n",
              "    }\n",
              "\n",
              "    .dataframe tbody tr th {\n",
              "        vertical-align: top;\n",
              "    }\n",
              "\n",
              "    .dataframe thead th {\n",
              "        text-align: right;\n",
              "    }\n",
              "</style>\n",
              "<table border=\"1\" class=\"dataframe\">\n",
              "  <thead>\n",
              "    <tr style=\"text-align: right;\">\n",
              "      <th></th>\n",
              "      <th>Id</th>\n",
              "      <th>ProductId</th>\n",
              "      <th>UserId</th>\n",
              "      <th>HelpfulnessNumerator</th>\n",
              "      <th>HelpfulnessDenominator</th>\n",
              "      <th>Score</th>\n",
              "      <th>Time</th>\n",
              "      <th>Summary</th>\n",
              "      <th>Text</th>\n",
              "    </tr>\n",
              "  </thead>\n",
              "  <tbody>\n",
              "    <tr>\n",
              "      <th>0</th>\n",
              "      <td>0</td>\n",
              "      <td>0005019281</td>\n",
              "      <td>ADZPIG9QOCDG5</td>\n",
              "      <td>0.0</td>\n",
              "      <td>0.0</td>\n",
              "      <td>4.0</td>\n",
              "      <td>1.203984e+09</td>\n",
              "      <td>good version of a classic</td>\n",
              "      <td>This is a charming version of the classic Dick...</td>\n",
              "    </tr>\n",
              "    <tr>\n",
              "      <th>1</th>\n",
              "      <td>1</td>\n",
              "      <td>0005019281</td>\n",
              "      <td>A35947ZP82G7JH</td>\n",
              "      <td>0.0</td>\n",
              "      <td>0.0</td>\n",
              "      <td>3.0</td>\n",
              "      <td>1.388362e+09</td>\n",
              "      <td>Good but not as moving</td>\n",
              "      <td>It was good but not as emotionally moving as t...</td>\n",
              "    </tr>\n",
              "    <tr>\n",
              "      <th>2</th>\n",
              "      <td>2</td>\n",
              "      <td>0005019281</td>\n",
              "      <td>A3UORV8A9D5L2E</td>\n",
              "      <td>0.0</td>\n",
              "      <td>0.0</td>\n",
              "      <td>3.0</td>\n",
              "      <td>1.388362e+09</td>\n",
              "      <td>Winkler's Performance was ok at best!</td>\n",
              "      <td>Don't get me wrong, Winkler is a wonderful cha...</td>\n",
              "    </tr>\n",
              "    <tr>\n",
              "      <th>3</th>\n",
              "      <td>3</td>\n",
              "      <td>0005019281</td>\n",
              "      <td>A1VKW06X1O2X7V</td>\n",
              "      <td>0.0</td>\n",
              "      <td>0.0</td>\n",
              "      <td>5.0</td>\n",
              "      <td>1.202861e+09</td>\n",
              "      <td>It's an enjoyable twist on the classic story</td>\n",
              "      <td>Henry Winkler is very good in this twist on th...</td>\n",
              "    </tr>\n",
              "    <tr>\n",
              "      <th>4</th>\n",
              "      <td>4</td>\n",
              "      <td>0005019281</td>\n",
              "      <td>A3R27T4HADWFFJ</td>\n",
              "      <td>0.0</td>\n",
              "      <td>0.0</td>\n",
              "      <td>4.0</td>\n",
              "      <td>1.387670e+09</td>\n",
              "      <td>Best Scrooge yet</td>\n",
              "      <td>This is one of the best Scrooge movies out.  H...</td>\n",
              "    </tr>\n",
              "  </tbody>\n",
              "</table>\n",
              "</div>\n",
              "      <button class=\"colab-df-convert\" onclick=\"convertToInteractive('df-d870ba94-c70d-49e3-9827-e1a6a3775802')\"\n",
              "              title=\"Convert this dataframe to an interactive table.\"\n",
              "              style=\"display:none;\">\n",
              "        \n",
              "  <svg xmlns=\"http://www.w3.org/2000/svg\" height=\"24px\"viewBox=\"0 0 24 24\"\n",
              "       width=\"24px\">\n",
              "    <path d=\"M0 0h24v24H0V0z\" fill=\"none\"/>\n",
              "    <path d=\"M18.56 5.44l.94 2.06.94-2.06 2.06-.94-2.06-.94-.94-2.06-.94 2.06-2.06.94zm-11 1L8.5 8.5l.94-2.06 2.06-.94-2.06-.94L8.5 2.5l-.94 2.06-2.06.94zm10 10l.94 2.06.94-2.06 2.06-.94-2.06-.94-.94-2.06-.94 2.06-2.06.94z\"/><path d=\"M17.41 7.96l-1.37-1.37c-.4-.4-.92-.59-1.43-.59-.52 0-1.04.2-1.43.59L10.3 9.45l-7.72 7.72c-.78.78-.78 2.05 0 2.83L4 21.41c.39.39.9.59 1.41.59.51 0 1.02-.2 1.41-.59l7.78-7.78 2.81-2.81c.8-.78.8-2.07 0-2.86zM5.41 20L4 18.59l7.72-7.72 1.47 1.35L5.41 20z\"/>\n",
              "  </svg>\n",
              "      </button>\n",
              "      \n",
              "  <style>\n",
              "    .colab-df-container {\n",
              "      display:flex;\n",
              "      flex-wrap:wrap;\n",
              "      gap: 12px;\n",
              "    }\n",
              "\n",
              "    .colab-df-convert {\n",
              "      background-color: #E8F0FE;\n",
              "      border: none;\n",
              "      border-radius: 50%;\n",
              "      cursor: pointer;\n",
              "      display: none;\n",
              "      fill: #1967D2;\n",
              "      height: 32px;\n",
              "      padding: 0 0 0 0;\n",
              "      width: 32px;\n",
              "    }\n",
              "\n",
              "    .colab-df-convert:hover {\n",
              "      background-color: #E2EBFA;\n",
              "      box-shadow: 0px 1px 2px rgba(60, 64, 67, 0.3), 0px 1px 3px 1px rgba(60, 64, 67, 0.15);\n",
              "      fill: #174EA6;\n",
              "    }\n",
              "\n",
              "    [theme=dark] .colab-df-convert {\n",
              "      background-color: #3B4455;\n",
              "      fill: #D2E3FC;\n",
              "    }\n",
              "\n",
              "    [theme=dark] .colab-df-convert:hover {\n",
              "      background-color: #434B5C;\n",
              "      box-shadow: 0px 1px 3px 1px rgba(0, 0, 0, 0.15);\n",
              "      filter: drop-shadow(0px 1px 2px rgba(0, 0, 0, 0.3));\n",
              "      fill: #FFFFFF;\n",
              "    }\n",
              "  </style>\n",
              "\n",
              "      <script>\n",
              "        const buttonEl =\n",
              "          document.querySelector('#df-d870ba94-c70d-49e3-9827-e1a6a3775802 button.colab-df-convert');\n",
              "        buttonEl.style.display =\n",
              "          google.colab.kernel.accessAllowed ? 'block' : 'none';\n",
              "\n",
              "        async function convertToInteractive(key) {\n",
              "          const element = document.querySelector('#df-d870ba94-c70d-49e3-9827-e1a6a3775802');\n",
              "          const dataTable =\n",
              "            await google.colab.kernel.invokeFunction('convertToInteractive',\n",
              "                                                     [key], {});\n",
              "          if (!dataTable) return;\n",
              "\n",
              "          const docLinkHtml = 'Like what you see? Visit the ' +\n",
              "            '<a target=\"_blank\" href=https://colab.research.google.com/notebooks/data_table.ipynb>data table notebook</a>'\n",
              "            + ' to learn more about interactive tables.';\n",
              "          element.innerHTML = '';\n",
              "          dataTable['output_type'] = 'display_data';\n",
              "          await google.colab.output.renderOutput(dataTable, element);\n",
              "          const docLink = document.createElement('div');\n",
              "          docLink.innerHTML = docLinkHtml;\n",
              "          element.appendChild(docLink);\n",
              "        }\n",
              "      </script>\n",
              "    </div>\n",
              "  </div>\n",
              "  "
            ]
          },
          "metadata": {},
          "execution_count": 20
        }
      ]
    },
    {
      "cell_type": "code",
      "source": [
        "df = process2(dataset_train)\n",
        "dataset_test"
      ],
      "metadata": {
        "id": "qPNjry2HBMSH",
        "colab": {
          "base_uri": "https://localhost:8080/",
          "height": 424
        },
        "outputId": "f7b55ed0-1001-4ecf-926e-5f2fb1f44366"
      },
      "id": "qPNjry2HBMSH",
      "execution_count": 21,
      "outputs": [
        {
          "output_type": "execute_result",
          "data": {
            "text/plain": [
              "             Id  Score\n",
              "0             5    NaN\n",
              "1            11    NaN\n",
              "2            17    NaN\n",
              "3            46    NaN\n",
              "4            47    NaN\n",
              "...         ...    ...\n",
              "299995  1697520    NaN\n",
              "299996  1697522    NaN\n",
              "299997  1697524    NaN\n",
              "299998  1697527    NaN\n",
              "299999  1697528    NaN\n",
              "\n",
              "[300000 rows x 2 columns]"
            ],
            "text/html": [
              "\n",
              "  <div id=\"df-2f3f5688-6632-4e81-b7d6-416ee6fd1d04\">\n",
              "    <div class=\"colab-df-container\">\n",
              "      <div>\n",
              "<style scoped>\n",
              "    .dataframe tbody tr th:only-of-type {\n",
              "        vertical-align: middle;\n",
              "    }\n",
              "\n",
              "    .dataframe tbody tr th {\n",
              "        vertical-align: top;\n",
              "    }\n",
              "\n",
              "    .dataframe thead th {\n",
              "        text-align: right;\n",
              "    }\n",
              "</style>\n",
              "<table border=\"1\" class=\"dataframe\">\n",
              "  <thead>\n",
              "    <tr style=\"text-align: right;\">\n",
              "      <th></th>\n",
              "      <th>Id</th>\n",
              "      <th>Score</th>\n",
              "    </tr>\n",
              "  </thead>\n",
              "  <tbody>\n",
              "    <tr>\n",
              "      <th>0</th>\n",
              "      <td>5</td>\n",
              "      <td>NaN</td>\n",
              "    </tr>\n",
              "    <tr>\n",
              "      <th>1</th>\n",
              "      <td>11</td>\n",
              "      <td>NaN</td>\n",
              "    </tr>\n",
              "    <tr>\n",
              "      <th>2</th>\n",
              "      <td>17</td>\n",
              "      <td>NaN</td>\n",
              "    </tr>\n",
              "    <tr>\n",
              "      <th>3</th>\n",
              "      <td>46</td>\n",
              "      <td>NaN</td>\n",
              "    </tr>\n",
              "    <tr>\n",
              "      <th>4</th>\n",
              "      <td>47</td>\n",
              "      <td>NaN</td>\n",
              "    </tr>\n",
              "    <tr>\n",
              "      <th>...</th>\n",
              "      <td>...</td>\n",
              "      <td>...</td>\n",
              "    </tr>\n",
              "    <tr>\n",
              "      <th>299995</th>\n",
              "      <td>1697520</td>\n",
              "      <td>NaN</td>\n",
              "    </tr>\n",
              "    <tr>\n",
              "      <th>299996</th>\n",
              "      <td>1697522</td>\n",
              "      <td>NaN</td>\n",
              "    </tr>\n",
              "    <tr>\n",
              "      <th>299997</th>\n",
              "      <td>1697524</td>\n",
              "      <td>NaN</td>\n",
              "    </tr>\n",
              "    <tr>\n",
              "      <th>299998</th>\n",
              "      <td>1697527</td>\n",
              "      <td>NaN</td>\n",
              "    </tr>\n",
              "    <tr>\n",
              "      <th>299999</th>\n",
              "      <td>1697528</td>\n",
              "      <td>NaN</td>\n",
              "    </tr>\n",
              "  </tbody>\n",
              "</table>\n",
              "<p>300000 rows × 2 columns</p>\n",
              "</div>\n",
              "      <button class=\"colab-df-convert\" onclick=\"convertToInteractive('df-2f3f5688-6632-4e81-b7d6-416ee6fd1d04')\"\n",
              "              title=\"Convert this dataframe to an interactive table.\"\n",
              "              style=\"display:none;\">\n",
              "        \n",
              "  <svg xmlns=\"http://www.w3.org/2000/svg\" height=\"24px\"viewBox=\"0 0 24 24\"\n",
              "       width=\"24px\">\n",
              "    <path d=\"M0 0h24v24H0V0z\" fill=\"none\"/>\n",
              "    <path d=\"M18.56 5.44l.94 2.06.94-2.06 2.06-.94-2.06-.94-.94-2.06-.94 2.06-2.06.94zm-11 1L8.5 8.5l.94-2.06 2.06-.94-2.06-.94L8.5 2.5l-.94 2.06-2.06.94zm10 10l.94 2.06.94-2.06 2.06-.94-2.06-.94-.94-2.06-.94 2.06-2.06.94z\"/><path d=\"M17.41 7.96l-1.37-1.37c-.4-.4-.92-.59-1.43-.59-.52 0-1.04.2-1.43.59L10.3 9.45l-7.72 7.72c-.78.78-.78 2.05 0 2.83L4 21.41c.39.39.9.59 1.41.59.51 0 1.02-.2 1.41-.59l7.78-7.78 2.81-2.81c.8-.78.8-2.07 0-2.86zM5.41 20L4 18.59l7.72-7.72 1.47 1.35L5.41 20z\"/>\n",
              "  </svg>\n",
              "      </button>\n",
              "      \n",
              "  <style>\n",
              "    .colab-df-container {\n",
              "      display:flex;\n",
              "      flex-wrap:wrap;\n",
              "      gap: 12px;\n",
              "    }\n",
              "\n",
              "    .colab-df-convert {\n",
              "      background-color: #E8F0FE;\n",
              "      border: none;\n",
              "      border-radius: 50%;\n",
              "      cursor: pointer;\n",
              "      display: none;\n",
              "      fill: #1967D2;\n",
              "      height: 32px;\n",
              "      padding: 0 0 0 0;\n",
              "      width: 32px;\n",
              "    }\n",
              "\n",
              "    .colab-df-convert:hover {\n",
              "      background-color: #E2EBFA;\n",
              "      box-shadow: 0px 1px 2px rgba(60, 64, 67, 0.3), 0px 1px 3px 1px rgba(60, 64, 67, 0.15);\n",
              "      fill: #174EA6;\n",
              "    }\n",
              "\n",
              "    [theme=dark] .colab-df-convert {\n",
              "      background-color: #3B4455;\n",
              "      fill: #D2E3FC;\n",
              "    }\n",
              "\n",
              "    [theme=dark] .colab-df-convert:hover {\n",
              "      background-color: #434B5C;\n",
              "      box-shadow: 0px 1px 3px 1px rgba(0, 0, 0, 0.15);\n",
              "      filter: drop-shadow(0px 1px 2px rgba(0, 0, 0, 0.3));\n",
              "      fill: #FFFFFF;\n",
              "    }\n",
              "  </style>\n",
              "\n",
              "      <script>\n",
              "        const buttonEl =\n",
              "          document.querySelector('#df-2f3f5688-6632-4e81-b7d6-416ee6fd1d04 button.colab-df-convert');\n",
              "        buttonEl.style.display =\n",
              "          google.colab.kernel.accessAllowed ? 'block' : 'none';\n",
              "\n",
              "        async function convertToInteractive(key) {\n",
              "          const element = document.querySelector('#df-2f3f5688-6632-4e81-b7d6-416ee6fd1d04');\n",
              "          const dataTable =\n",
              "            await google.colab.kernel.invokeFunction('convertToInteractive',\n",
              "                                                     [key], {});\n",
              "          if (!dataTable) return;\n",
              "\n",
              "          const docLinkHtml = 'Like what you see? Visit the ' +\n",
              "            '<a target=\"_blank\" href=https://colab.research.google.com/notebooks/data_table.ipynb>data table notebook</a>'\n",
              "            + ' to learn more about interactive tables.';\n",
              "          element.innerHTML = '';\n",
              "          dataTable['output_type'] = 'display_data';\n",
              "          await google.colab.output.renderOutput(dataTable, element);\n",
              "          const docLink = document.createElement('div');\n",
              "          docLink.innerHTML = docLinkHtml;\n",
              "          element.appendChild(docLink);\n",
              "        }\n",
              "      </script>\n",
              "    </div>\n",
              "  </div>\n",
              "  "
            ]
          },
          "metadata": {},
          "execution_count": 21
        }
      ]
    },
    {
      "cell_type": "code",
      "source": [
        "X_train=pd.read_csv('/content/drive/MyDrive/cs506/train.csv').sample(n=500000, random_state=1)   \n",
        "prediction=pd.read_csv('/content/drive/MyDrive/cs506/process.csv')\n",
        "\n",
        "#using tfidf vectorizer on training data\n",
        "vectorizer = TfidfVectorizer(stop_words='english', max_features=100)\n",
        "X_train_vectors=vectorizer.fit_transform(X_train['Summary'].values.astype('U'))\n",
        "X_train_dense=X_train_vectors.todense()\n",
        "X_train_feature_names=vectorizer.get_feature_names()\n",
        "X_train_vectorized=pd.DataFrame(X_train_dense, columns = X_train_feature_names)\n",
        "print(X_train_vectorized.head())"
      ],
      "metadata": {
        "id": "BVCjMnF85LPo",
        "colab": {
          "base_uri": "https://localhost:8080/",
          "height": 419
        },
        "outputId": "42c4fa60-cc4a-4b55-e26a-e3fcd8b015ae"
      },
      "id": "BVCjMnF85LPo",
      "execution_count": 22,
      "outputs": [
        {
          "output_type": "error",
          "ename": "ValueError",
          "evalue": "ignored",
          "traceback": [
            "\u001b[0;31m---------------------------------------------------------------------------\u001b[0m",
            "\u001b[0;31mValueError\u001b[0m                                Traceback (most recent call last)",
            "\u001b[0;32m<ipython-input-22-23bfc8fa3785>\u001b[0m in \u001b[0;36m<module>\u001b[0;34m\u001b[0m\n\u001b[0;32m----> 1\u001b[0;31m \u001b[0mX_train\u001b[0m\u001b[0;34m=\u001b[0m\u001b[0mpd\u001b[0m\u001b[0;34m.\u001b[0m\u001b[0mread_csv\u001b[0m\u001b[0;34m(\u001b[0m\u001b[0;34m'/content/drive/MyDrive/cs506/train.csv'\u001b[0m\u001b[0;34m)\u001b[0m\u001b[0;34m.\u001b[0m\u001b[0msample\u001b[0m\u001b[0;34m(\u001b[0m\u001b[0mn\u001b[0m\u001b[0;34m=\u001b[0m\u001b[0;36m500000\u001b[0m\u001b[0;34m,\u001b[0m \u001b[0mrandom_state\u001b[0m\u001b[0;34m=\u001b[0m\u001b[0;36m1\u001b[0m\u001b[0;34m)\u001b[0m\u001b[0;34m\u001b[0m\u001b[0;34m\u001b[0m\u001b[0m\n\u001b[0m\u001b[1;32m      2\u001b[0m \u001b[0mprediction\u001b[0m\u001b[0;34m=\u001b[0m\u001b[0mpd\u001b[0m\u001b[0;34m.\u001b[0m\u001b[0mread_csv\u001b[0m\u001b[0;34m(\u001b[0m\u001b[0;34m'/content/drive/MyDrive/cs506/process.csv'\u001b[0m\u001b[0;34m)\u001b[0m\u001b[0;34m\u001b[0m\u001b[0;34m\u001b[0m\u001b[0m\n\u001b[1;32m      3\u001b[0m \u001b[0;34m\u001b[0m\u001b[0m\n\u001b[1;32m      4\u001b[0m \u001b[0;31m#using tfidf vectorizer on training data\u001b[0m\u001b[0;34m\u001b[0m\u001b[0;34m\u001b[0m\u001b[0;34m\u001b[0m\u001b[0m\n\u001b[1;32m      5\u001b[0m \u001b[0mvectorizer\u001b[0m \u001b[0;34m=\u001b[0m \u001b[0mTfidfVectorizer\u001b[0m\u001b[0;34m(\u001b[0m\u001b[0mstop_words\u001b[0m\u001b[0;34m=\u001b[0m\u001b[0;34m'english'\u001b[0m\u001b[0;34m,\u001b[0m \u001b[0mmax_features\u001b[0m\u001b[0;34m=\u001b[0m\u001b[0;36m100\u001b[0m\u001b[0;34m)\u001b[0m\u001b[0;34m\u001b[0m\u001b[0;34m\u001b[0m\u001b[0m\n",
            "\u001b[0;32m/usr/local/lib/python3.7/dist-packages/pandas/core/generic.py\u001b[0m in \u001b[0;36msample\u001b[0;34m(self, n, frac, replace, weights, random_state, axis, ignore_index)\u001b[0m\n\u001b[1;32m   5363\u001b[0m             )\n\u001b[1;32m   5364\u001b[0m \u001b[0;34m\u001b[0m\u001b[0m\n\u001b[0;32m-> 5365\u001b[0;31m         \u001b[0mlocs\u001b[0m \u001b[0;34m=\u001b[0m \u001b[0mrs\u001b[0m\u001b[0;34m.\u001b[0m\u001b[0mchoice\u001b[0m\u001b[0;34m(\u001b[0m\u001b[0maxis_length\u001b[0m\u001b[0;34m,\u001b[0m \u001b[0msize\u001b[0m\u001b[0;34m=\u001b[0m\u001b[0mn\u001b[0m\u001b[0;34m,\u001b[0m \u001b[0mreplace\u001b[0m\u001b[0;34m=\u001b[0m\u001b[0mreplace\u001b[0m\u001b[0;34m,\u001b[0m \u001b[0mp\u001b[0m\u001b[0;34m=\u001b[0m\u001b[0mweights\u001b[0m\u001b[0;34m)\u001b[0m\u001b[0;34m\u001b[0m\u001b[0;34m\u001b[0m\u001b[0m\n\u001b[0m\u001b[1;32m   5366\u001b[0m         \u001b[0mresult\u001b[0m \u001b[0;34m=\u001b[0m \u001b[0mself\u001b[0m\u001b[0;34m.\u001b[0m\u001b[0mtake\u001b[0m\u001b[0;34m(\u001b[0m\u001b[0mlocs\u001b[0m\u001b[0;34m,\u001b[0m \u001b[0maxis\u001b[0m\u001b[0;34m=\u001b[0m\u001b[0maxis\u001b[0m\u001b[0;34m)\u001b[0m\u001b[0;34m\u001b[0m\u001b[0;34m\u001b[0m\u001b[0m\n\u001b[1;32m   5367\u001b[0m         \u001b[0;32mif\u001b[0m \u001b[0mignore_index\u001b[0m\u001b[0;34m:\u001b[0m\u001b[0;34m\u001b[0m\u001b[0;34m\u001b[0m\u001b[0m\n",
            "\u001b[0;32mmtrand.pyx\u001b[0m in \u001b[0;36mnumpy.random.mtrand.RandomState.choice\u001b[0;34m()\u001b[0m\n",
            "\u001b[0;31mValueError\u001b[0m: Cannot take a larger sample than population when 'replace=False'"
          ]
        }
      ]
    },
    {
      "cell_type": "code",
      "source": [
        "#using tfidf vectorizer on prediction data\n",
        "vectorizer2=TfidfVectorizer(stop_words='english', max_features=100)\n",
        "prediction_vectors=vectorizer2.fit_transform(prediction['Summary'].values.astype('U'))\n",
        "prediction_dense=prediction_vectors.todense()\n",
        "prediction_feature_names=vectorizer2.get_feature_names()\n",
        "prediction_vectorized=pd.DataFrame(prediction_dense, columns=prediction_feature_names)\n",
        "print(prediction_vectorized.head())"
      ],
      "metadata": {
        "id": "FkpUgm7Y7-WY",
        "colab": {
          "base_uri": "https://localhost:8080/"
        },
        "outputId": "e0c379a2-3ff5-4f48-c457-8089179be6a5"
      },
      "id": "FkpUgm7Y7-WY",
      "execution_count": 14,
      "outputs": [
        {
          "output_type": "stream",
          "name": "stdout",
          "text": [
            "   acting  action  amazing  awesome  bad  beautiful      best  better  big  \\\n",
            "0     0.0     0.0      0.0      0.0  0.0        0.0  0.000000     0.0  0.0   \n",
            "1     0.0     0.0      0.0      0.0  0.0        0.0  0.000000     0.0  0.0   \n",
            "2     0.0     0.0      0.0      0.0  0.0        0.0  0.574119     0.0  0.0   \n",
            "3     0.0     0.0      0.0      0.0  0.0        0.0  0.000000     0.0  0.0   \n",
            "4     0.0     0.0      0.0      0.0  0.0        0.0  1.000000     0.0  0.0   \n",
            "\n",
            "   blu  ...  war  watch  watching  way  western  wonderful  world  worst  \\\n",
            "0  0.0  ...  0.0    0.0       0.0  0.0      0.0        0.0    0.0    0.0   \n",
            "1  0.0  ...  0.0    0.0       0.0  0.0      0.0        0.0    0.0    0.0   \n",
            "2  0.0  ...  0.0    0.0       0.0  0.0      0.0        0.0    0.0    0.0   \n",
            "3  0.0  ...  0.0    0.0       0.0  0.0      0.0        0.0    0.0    0.0   \n",
            "4  0.0  ...  0.0    0.0       0.0  0.0      0.0        0.0    0.0    0.0   \n",
            "\n",
            "   worth  wow  \n",
            "0    0.0  0.0  \n",
            "1    0.0  0.0  \n",
            "2    0.0  0.0  \n",
            "3    0.0  0.0  \n",
            "4    0.0  0.0  \n",
            "\n",
            "[5 rows x 100 columns]\n"
          ]
        },
        {
          "output_type": "stream",
          "name": "stderr",
          "text": [
            "/usr/local/lib/python3.7/dist-packages/sklearn/utils/deprecation.py:87: FutureWarning: Function get_feature_names is deprecated; get_feature_names is deprecated in 1.0 and will be removed in 1.2. Please use get_feature_names_out instead.\n",
            "  warnings.warn(msg, category=FutureWarning)\n"
          ]
        }
      ]
    },
    {
      "cell_type": "code",
      "source": [
        "from sklearn.ensemble import RandomForestClassifier\n",
        "\n",
        "X_train = pd.read_csv('/content/drive/MyDrive/cs506/X_train.csv')\n",
        "X_submission = pd.read_csv('/content/drive/MyDrive/cs506/X_test.csv')\n",
        "\n",
        "# Split training set into training and testing set\n",
        "X_train, X_test, Y_train, Y_test = train_test_split(\n",
        "        X_train.drop(['Score'], axis=1),\n",
        "        X_train['Score'],\n",
        "        test_size=1/4.0,\n",
        "        random_state=0\n",
        "    )\n",
        "X_train_processed = X_train.drop(columns=['Id', 'ProductId', 'UserId', 'Text', 'Summary'])\n",
        "X_test_processed = X_test.drop(columns=['Id', 'ProductId', 'UserId', 'Text', 'Summary'])\n",
        "X_submission_processed = X_submission.drop(columns=['Id', 'ProductId', 'UserId', 'Text', 'Summary', 'Score'])\n",
        "\n",
        "# Learn the model\n",
        "model = KNeighborsClassifier(n_neighbors=20).fit(X_train_processed, Y_train)\n",
        "\n",
        "# Predict the score using the model\n",
        "Y_test_predictions = model.predict(X_test_processed)\n",
        "X_submission['Score'] = model.predict(X_submission_processed)\n",
        "\n",
        "result = []\n",
        "for k in range(1, 31):\n",
        "    print(\"k = \", k)\n",
        "    # Learn the model\n",
        "    # model = KNeighborsClassifier(n_neighbors=20).fit(X_train_processed, Y_train)\n",
        "    model = RandomForestClassifier(max_depth=k, n_estimators=5).fit(X_train_processed, Y_train)\n",
        "\n",
        "    # Predict the score using the model\n",
        "    Y_test_predictions = model.predict(X_test_processed)\n",
        "    X_submission['Score'] = model.predict(X_submission_processed)\n",
        "\n",
        "    accuracy = accuracy_score(Y_test, Y_test_predictions)\n",
        "    rmse = mean_squared_error(Y_test, Y_test_predictions)\n",
        "    # Evaluate your model on the testing set\n",
        "    print(\"Accuracy on testing set = \", accuracy)\n",
        "    print(\"RMSE root mean square error on testing set\", rmse)\n",
        "    result.append((k, accuracy, rmse))"
      ],
      "metadata": {
        "id": "wwK-XV8B_CYg",
        "colab": {
          "base_uri": "https://localhost:8080/"
        },
        "outputId": "8c12d8c1-c629-41be-9e6b-edc61e5cd477"
      },
      "id": "wwK-XV8B_CYg",
      "execution_count": 23,
      "outputs": [
        {
          "output_type": "stream",
          "name": "stdout",
          "text": [
            "k =  1\n",
            "Accuracy on testing set =  0.5975162291843071\n",
            "RMSE root mean square error on testing set 1.728532451648455\n",
            "k =  2\n",
            "Accuracy on testing set =  0.5975162291843071\n",
            "RMSE root mean square error on testing set 1.728532451648455\n",
            "k =  3\n",
            "Accuracy on testing set =  0.6216550407913659\n",
            "RMSE root mean square error on testing set 1.1019716946897302\n",
            "k =  4\n",
            "Accuracy on testing set =  0.6463986667204279\n",
            "RMSE root mean square error on testing set 0.9525825571549534\n",
            "k =  5\n",
            "Accuracy on testing set =  0.661653427953174\n",
            "RMSE root mean square error on testing set 0.7935970323777267\n",
            "k =  6\n",
            "Accuracy on testing set =  0.6711691732860234\n",
            "RMSE root mean square error on testing set 0.7497950351464323\n",
            "k =  7\n",
            "Accuracy on testing set =  0.668077900084674\n",
            "RMSE root mean square error on testing set 0.7189495047242719\n",
            "k =  8\n",
            "Accuracy on testing set =  0.679408088383533\n",
            "RMSE root mean square error on testing set 0.6542343722699353\n",
            "k =  9\n",
            "Accuracy on testing set =  0.6840718788220905\n",
            "RMSE root mean square error on testing set 0.6260769055011223\n",
            "k =  10\n",
            "Accuracy on testing set =  0.6835073854548875\n",
            "RMSE root mean square error on testing set 0.6075292662930258\n",
            "k =  11\n",
            "Accuracy on testing set =  0.6858056798784995\n",
            "RMSE root mean square error on testing set 0.5986317756004462\n",
            "k =  12\n",
            "Accuracy on testing set =  0.6840718788220905\n",
            "RMSE root mean square error on testing set 0.6027041920352674\n",
            "k =  13\n",
            "Accuracy on testing set =  0.6833729822722202\n",
            "RMSE root mean square error on testing set 0.6005671814308563\n",
            "k =  14\n",
            "Accuracy on testing set =  0.6820961520368802\n",
            "RMSE root mean square error on testing set 0.6013063989355268\n",
            "k =  15\n",
            "Accuracy on testing set =  0.6776608470088572\n",
            "RMSE root mean square error on testing set 0.6134161256938564\n",
            "k =  16\n",
            "Accuracy on testing set =  0.6739244385307044\n",
            "RMSE root mean square error on testing set 0.6382672741690523\n",
            "k =  17\n",
            "Accuracy on testing set =  0.6710078894668225\n",
            "RMSE root mean square error on testing set 0.6416139134174698\n",
            "k =  18\n",
            "Accuracy on testing set =  0.6660215313898633\n",
            "RMSE root mean square error on testing set 0.6579842210663549\n",
            "k =  19\n",
            "Accuracy on testing set =  0.6617340698627744\n",
            "RMSE root mean square error on testing set 0.6691262449094795\n",
            "k =  20\n",
            "Accuracy on testing set =  0.6591132078007608\n",
            "RMSE root mean square error on testing set 0.6759001653159147\n",
            "k =  21\n",
            "Accuracy on testing set =  0.6566133086031477\n",
            "RMSE root mean square error on testing set 0.68205583108208\n",
            "k =  22\n",
            "Accuracy on testing set =  0.6534279531739312\n",
            "RMSE root mean square error on testing set 0.6990175127347016\n",
            "k =  23\n",
            "Accuracy on testing set =  0.6508205314301843\n",
            "RMSE root mean square error on testing set 0.7092993562087551\n",
            "k =  24\n",
            "Accuracy on testing set =  0.6484415950969719\n",
            "RMSE root mean square error on testing set 0.7124578310014381\n",
            "k =  25\n",
            "Accuracy on testing set =  0.6470706826337648\n",
            "RMSE root mean square error on testing set 0.7214494039218848\n",
            "k =  26\n",
            "Accuracy on testing set =  0.6463583457656278\n",
            "RMSE root mean square error on testing set 0.7193392739540072\n",
            "k =  27\n",
            "Accuracy on testing set =  0.6432536322460116\n",
            "RMSE root mean square error on testing set 0.7356154993750252\n",
            "k =  28\n",
            "Accuracy on testing set =  0.6444498205717512\n",
            "RMSE root mean square error on testing set 0.7269868150477803\n",
            "k =  29\n",
            "Accuracy on testing set =  0.6427563404701423\n",
            "RMSE root mean square error on testing set 0.7288550192868567\n",
            "k =  30\n",
            "Accuracy on testing set =  0.6437106030670806\n",
            "RMSE root mean square error on testing set 0.7322016585352741\n"
          ]
        }
      ]
    },
    {
      "cell_type": "markdown",
      "metadata": {
        "id": "17xLmcn_9eFm"
      },
      "source": [
        "###Logistic regression "
      ],
      "id": "17xLmcn_9eFm"
    },
    {
      "cell_type": "code",
      "metadata": {
        "id": "Xl8QiRAD6wU2",
        "colab": {
          "base_uri": "https://localhost:8080/"
        },
        "outputId": "b5d20489-491f-4076-92de-4a89d52a67ff"
      },
      "source": [
        "trainx = X_train.drop(columns=['Text', 'Summary'])\n",
        "clf = LogisticRegression(class_weight = 'balanced').fit(X_train_processed, Y_train)\n",
        "LRpred = clf.predict(X_test_processed)\n",
        "print(accuracy_score(Y_test, LRpred))\n",
        "print(precision_recall_fscore_support(Y_test, LRpred, average='weighted'))\n",
        "print(mean_squared_error(Y_test, LRpred))"
      ],
      "id": "Xl8QiRAD6wU2",
      "execution_count": 24,
      "outputs": [
        {
          "output_type": "stream",
          "name": "stdout",
          "text": [
            "0.5975162291843071\n",
            "(0.3570256441386334, 0.5975162291843071, 0.4469759212661406, None)\n",
            "1.728532451648455\n"
          ]
        },
        {
          "output_type": "stream",
          "name": "stderr",
          "text": [
            "/usr/local/lib/python3.7/dist-packages/sklearn/metrics/_classification.py:1318: UndefinedMetricWarning: Precision and F-score are ill-defined and being set to 0.0 in labels with no predicted samples. Use `zero_division` parameter to control this behavior.\n",
            "  _warn_prf(average, modifier, msg_start, len(result))\n"
          ]
        }
      ]
    },
    {
      "cell_type": "code",
      "source": [
        "old = [0.5,1.5,2.5,3.5,4.5]\n",
        "new = [1,2,3,4,5]\n",
        "LGR = LogisticRegression()\n",
        "LGR.fit(X_train_processed, Y_train)\n",
        "LGR_prediction = LGR.predict(X_train_processed)\n",
        "LGR_acc = accuracy_score(Y_train, LGR_prediction)\n",
        "print(LGR_acc)\n",
        "\n",
        "cm1 = confusion_matrix(Y_train, LGR_prediction, normalize='true')\n",
        "sns.heatmap(cm1, annot=True)\n",
        "plt.title('LogisticRegression()')\n",
        "plt.xlabel('Predicted')\n",
        "plt.ylabel('True')\n",
        "plt.xticks(old, new)\n",
        "plt.yticks(old, new)\n",
        "plt.show()"
      ],
      "metadata": {
        "id": "_pFSr2Kkbfez",
        "colab": {
          "base_uri": "https://localhost:8080/",
          "height": 313
        },
        "outputId": "058738bb-7993-42ef-bbac-03f67aeb8268"
      },
      "id": "_pFSr2Kkbfez",
      "execution_count": 25,
      "outputs": [
        {
          "output_type": "stream",
          "name": "stdout",
          "text": [
            "0.5941327742085786\n"
          ]
        },
        {
          "output_type": "display_data",
          "data": {
            "text/plain": [
              "<Figure size 432x288 with 2 Axes>"
            ],
            "image/png": "[encoded data removed]"
          },
          "metadata": {
            "needs_background": "light"
          }
        }
      ]
    },
    {
      "cell_type": "code",
      "source": [
        "LGR2 = LogisticRegression(max_iter=400)\n",
        "LGR2.fit(X_train_processed, Y_train)\n",
        "LGR2_prediction = LGR.predict(X_train_processed)\n",
        "LGR2_acc = accuracy_score(Y_train, LGR2_prediction)\n",
        "print(LGR2_acc)\n",
        "\n",
        "cm1 = confusion_matrix(Y_train, LGR2_prediction, normalize='true')\n",
        "sns.heatmap(cm1, annot=True)\n",
        "plt.title('LogisticRegression2()')\n",
        "plt.xlabel('Predicted')\n",
        "plt.ylabel('True')\n",
        "plt.xticks(old, new)\n",
        "plt.yticks(old, new)\n",
        "plt.show()"
      ],
      "metadata": {
        "id": "zSlJ-SmNokAI",
        "colab": {
          "base_uri": "https://localhost:8080/",
          "height": 313
        },
        "outputId": "4534bc68-4c92-4c66-9bff-d9a43527b57d"
      },
      "id": "zSlJ-SmNokAI",
      "execution_count": 26,
      "outputs": [
        {
          "output_type": "stream",
          "name": "stdout",
          "text": [
            "0.5941327742085786\n"
          ]
        },
        {
          "output_type": "display_data",
          "data": {
            "text/plain": [
              "<Figure size 432x288 with 2 Axes>"
            ],
            "image/png": "[encoded data removed]"
          },
          "metadata": {
            "needs_background": "light"
          }
        }
      ]
    },
    {
      "cell_type": "markdown",
      "metadata": {
        "id": "yRvSb3DdCbFy"
      },
      "source": [
        "###Naive Bayes"
      ],
      "id": "yRvSb3DdCbFy"
    },
    {
      "cell_type": "code",
      "metadata": {
        "id": "cAI8Y6yeDF21",
        "colab": {
          "base_uri": "https://localhost:8080/"
        },
        "outputId": "05cacb9a-285a-4a0a-ff1f-d5aa3412b2f5"
      },
      "source": [
        "clf = MultinomialNB()\n",
        "clf.fit(X_train_processed, Y_train)\n",
        "NBpred = clf.predict(X_test_processed)\n",
        "print(accuracy_score(Y_test, NBpred))\n",
        "print(precision_recall_fscore_support(Y_test, NBpred, average='weighted'))\n",
        "print(mean_squared_error(Y_test, NBpred))"
      ],
      "id": "cAI8Y6yeDF21",
      "execution_count": 27,
      "outputs": [
        {
          "output_type": "stream",
          "name": "stdout",
          "text": [
            "0.5682163353628213\n",
            "(0.39676027192584273, 0.5682163353628213, 0.46133312824859823, None)\n",
            "2.1475074929774336\n"
          ]
        },
        {
          "output_type": "stream",
          "name": "stderr",
          "text": [
            "/usr/local/lib/python3.7/dist-packages/sklearn/metrics/_classification.py:1318: UndefinedMetricWarning: Precision and F-score are ill-defined and being set to 0.0 in labels with no predicted samples. Use `zero_division` parameter to control this behavior.\n",
            "  _warn_prf(average, modifier, msg_start, len(result))\n"
          ]
        }
      ]
    },
    {
      "cell_type": "code",
      "source": [
        "NB = ComplementNB()\n",
        "NB.fit(X_train_processed, Y_train)\n",
        "NB_prediction = NB.predict(X_train_processed)\n",
        "NB_acc = accuracy_score(Y_train, NB_prediction)\n",
        "print(NB_acc)\n",
        "\n",
        "cm3 = confusion_matrix(Y_train, NB_prediction, normalize='true')\n",
        "sns.heatmap(cm3, annot=True)\n",
        "plt.title('ComplementNB()')\n",
        "plt.xlabel('Predicted')\n",
        "plt.ylabel('True')\n",
        "plt.xticks(old, new)\n",
        "plt.yticks(old, new)\n",
        "plt.show()\n",
        "\n",
        "rmse = mean_squared_error(Y_train, NB_prediction)\n",
        "print(\"RMSE root mean square error on testing set\", rmse)"
      ],
      "metadata": {
        "id": "X2Hd1rlyhP62",
        "colab": {
          "base_uri": "https://localhost:8080/",
          "height": 331
        },
        "outputId": "7da49011-b019-4e7e-da73-d7cfd8b494c0"
      },
      "id": "X2Hd1rlyhP62",
      "execution_count": 28,
      "outputs": [
        {
          "output_type": "stream",
          "name": "stdout",
          "text": [
            "0.5280637617268353\n"
          ]
        },
        {
          "output_type": "display_data",
          "data": {
            "text/plain": [
              "<Figure size 432x288 with 2 Axes>"
            ],
            "image/png": "[encoded data removed]"
          },
          "metadata": {
            "needs_background": "light"
          }
        },
        {
          "output_type": "stream",
          "name": "stdout",
          "text": [
            "RMSE root mean square error on testing set 2.945498776914599\n"
          ]
        }
      ]
    },
    {
      "cell_type": "code",
      "source": [
        "import pandas as pd\n",
        "import seaborn as sns\n",
        "import matplotlib.pyplot as plt\n",
        "from sklearn.linear_model import LogisticRegression \n",
        "from sklearn.model_selection import train_test_split\n",
        "from sklearn.metrics import accuracy_score, confusion_matrix, mean_squared_error\n",
        "from sklearn.feature_extraction.text import TfidfVectorizer\n",
        "\n",
        "X_train = pd.read_csv(\"/content/drive/MyDrive/cs506/X_train.csv\")\n",
        "X_submission = pd.read_csv(\"/content/drive/MyDrive/cs506/X_test.csv\")\n",
        "\n",
        "\n",
        "trains_X = X_train.sample(frac=0.4, replace=True, random_state=1)\n",
        "vector= TfidfVectorizer(max_df=0.9).fit(trains_X['Text'])\n",
        "x_vec = vector.transform(X_submission['Text'])\n",
        "\n",
        "tr_X,test_X,train_Y,test_Y = train_test_split(X_train_vectorized,X_train['Score'],test_size= 0.2)\n",
        "\n",
        "model = LogisticRegression()\n",
        "\n",
        "model.fit(tr_X,train_Y)\n",
        "\n",
        "pred_Y = model.predict(test_X)\n",
        "\n",
        "# Evaluate your model on the testing set\n",
        "print(\"Accuracy on testing set = \", accuracy_score(test_Y, pred_Y))\n",
        "print(\"RMSE root mean square error on testing set:\" , mean_squared_error(test_Y, pred_Y))\n",
        "\n",
        "# Plot a confusion matrix\n",
        "cm = confusion_matrix(test_Y, pred_Y, normalize='true')\n",
        "sns.heatmap(cm, annot=True)\n",
        "plt.title('Confusion matrix of the classifier')\n",
        "plt.xlabel('Predicted')\n",
        "plt.ylabel('True')\n",
        "plt.show()\n",
        "\n",
        "X_submission['Score']= model.predict(x_vec)\n",
        "\n",
        "# Create the submission file\n",
        "submission = X_submission[['Id', 'Score']]\n",
        "submission.to_csv(\"/content/drive/MyDrive/cs506/submission.csv\", index=False)"
      ],
      "metadata": {
        "colab": {
          "base_uri": "https://localhost:8080/",
          "height": 474
        },
        "id": "5dBjyDak6_J4",
        "outputId": "4762819d-e069-499e-f3bd-16ebf7372fc6"
      },
      "id": "5dBjyDak6_J4",
      "execution_count": 42,
      "outputs": [
        {
          "output_type": "stream",
          "name": "stderr",
          "text": [
            "/usr/local/lib/python3.7/dist-packages/sklearn/linear_model/_logistic.py:818: ConvergenceWarning: lbfgs failed to converge (status=1):\n",
            "STOP: TOTAL NO. of ITERATIONS REACHED LIMIT.\n",
            "\n",
            "Increase the number of iterations (max_iter) or scale the data as shown in:\n",
            "    https://scikit-learn.org/stable/modules/preprocessing.html\n",
            "Please also refer to the documentation for alternative solver options:\n",
            "    https://scikit-learn.org/stable/modules/linear_model.html#logistic-regression\n",
            "  extra_warning_msg=_LOGISTIC_SOLVER_CONVERGENCE_MSG,\n"
          ]
        },
        {
          "output_type": "stream",
          "name": "stdout",
          "text": [
            "Accuracy on testing set =  0.6629649541346057\n",
            "RMSE root mean square error on testing set: 0.8654111084976983\n"
          ]
        },
        {
          "output_type": "display_data",
          "data": {
            "text/plain": [
              "<Figure size 432x288 with 2 Axes>"
            ],
            "image/png": "[encoded data removed]"
          },
          "metadata": {
            "needs_background": "light"
          }
        }
      ]
    }
  ]
}